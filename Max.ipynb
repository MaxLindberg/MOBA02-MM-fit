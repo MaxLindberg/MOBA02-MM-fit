{
 "cells": [
  {
   "cell_type": "markdown",
   "id": "a71bc401-ccd7-4413-a36c-fc4cb78307d3",
   "metadata": {},
   "source": [
    "## Importing all modules we need"
   ]
  },
  {
   "cell_type": "code",
   "execution_count": 1,
   "id": "77f48cdd-f32d-4602-93d5-280922b11b28",
   "metadata": {},
   "outputs": [],
   "source": [
    "import pandas as pd\n",
    "import matplotlib.pyplot as plt\n",
    "import numpy as np\n",
    "from sklearn.linear_model import LinearRegression\n",
    "from scipy.optimize import curve_fit"
   ]
  },
  {
   "cell_type": "markdown",
   "id": "0ba07cc2-ab71-4b83-99f8-a7fdafbd50c6",
   "metadata": {},
   "source": [
    "A lot in this notebook is inspired or copied from the following link, so that can be worthwhile to check out.\n",
    "https://education.molssi.org/python-scripting-biochemistry/chapters/nonlinear_regression_part_2.html"
   ]
  },
  {
   "cell_type": "markdown",
   "id": "204c699e-c6cc-4ea4-8624-f4637a410134",
   "metadata": {},
   "source": [
    "## Import the data \n",
    "If not organized as the example data (i.e. a column with the times in seconds followed by absorbance for increasingly higher concentration of substrate), changes will have to be made in the notebook to accomodate this. "
   ]
  },
  {
   "cell_type": "code",
   "execution_count": 29,
   "id": "c127ddd1-c6f4-4302-8ad6-92de5b8dce4f",
   "metadata": {},
   "outputs": [],
   "source": [
    "data_abs = pd.read_csv('example-data.csv',index_col=0)"
   ]
  },
  {
   "cell_type": "code",
   "execution_count": 30,
   "id": "9524f124-0605-4423-b13e-a3b36591a671",
   "metadata": {},
   "outputs": [
    {
     "data": {
      "text/html": [
       "<div>\n",
       "<style scoped>\n",
       "    .dataframe tbody tr th:only-of-type {\n",
       "        vertical-align: middle;\n",
       "    }\n",
       "\n",
       "    .dataframe tbody tr th {\n",
       "        vertical-align: top;\n",
       "    }\n",
       "\n",
       "    .dataframe thead th {\n",
       "        text-align: right;\n",
       "    }\n",
       "</style>\n",
       "<table border=\"1\" class=\"dataframe\">\n",
       "  <thead>\n",
       "    <tr style=\"text-align: right;\">\n",
       "      <th></th>\n",
       "      <th>neg ctrl_A</th>\n",
       "      <th>0.05_A</th>\n",
       "      <th>0.5_A</th>\n",
       "      <th>1_A</th>\n",
       "      <th>2_A</th>\n",
       "      <th>5_A</th>\n",
       "    </tr>\n",
       "    <tr>\n",
       "      <th>t (s)</th>\n",
       "      <th></th>\n",
       "      <th></th>\n",
       "      <th></th>\n",
       "      <th></th>\n",
       "      <th></th>\n",
       "      <th></th>\n",
       "    </tr>\n",
       "  </thead>\n",
       "  <tbody>\n",
       "    <tr>\n",
       "      <th>30</th>\n",
       "      <td>0.000</td>\n",
       "      <td>0.042</td>\n",
       "      <td>0.083</td>\n",
       "      <td>0.098</td>\n",
       "      <td>0.109</td>\n",
       "      <td>0.188</td>\n",
       "    </tr>\n",
       "    <tr>\n",
       "      <th>60</th>\n",
       "      <td>-0.004</td>\n",
       "      <td>0.065</td>\n",
       "      <td>0.122</td>\n",
       "      <td>0.158</td>\n",
       "      <td>0.174</td>\n",
       "      <td>0.228</td>\n",
       "    </tr>\n",
       "    <tr>\n",
       "      <th>120</th>\n",
       "      <td>0.001</td>\n",
       "      <td>0.096</td>\n",
       "      <td>0.226</td>\n",
       "      <td>0.287</td>\n",
       "      <td>0.313</td>\n",
       "      <td>0.375</td>\n",
       "    </tr>\n",
       "    <tr>\n",
       "      <th>180</th>\n",
       "      <td>-0.001</td>\n",
       "      <td>0.149</td>\n",
       "      <td>0.333</td>\n",
       "      <td>0.413</td>\n",
       "      <td>0.439</td>\n",
       "      <td>0.520</td>\n",
       "    </tr>\n",
       "    <tr>\n",
       "      <th>240</th>\n",
       "      <td>-0.003</td>\n",
       "      <td>0.181</td>\n",
       "      <td>0.438</td>\n",
       "      <td>0.529</td>\n",
       "      <td>0.563</td>\n",
       "      <td>0.670</td>\n",
       "    </tr>\n",
       "  </tbody>\n",
       "</table>\n",
       "</div>"
      ],
      "text/plain": [
       "       neg ctrl_A  0.05_A  0.5_A    1_A    2_A    5_A\n",
       "t (s)                                                \n",
       "30          0.000   0.042  0.083  0.098  0.109  0.188\n",
       "60         -0.004   0.065  0.122  0.158  0.174  0.228\n",
       "120         0.001   0.096  0.226  0.287  0.313  0.375\n",
       "180        -0.001   0.149  0.333  0.413  0.439  0.520\n",
       "240        -0.003   0.181  0.438  0.529  0.563  0.670"
      ]
     },
     "execution_count": 30,
     "metadata": {},
     "output_type": "execute_result"
    }
   ],
   "source": [
    "data_abs"
   ]
  },
  {
   "cell_type": "markdown",
   "id": "4e9d8917-8c36-4af6-aef1-a2df5ac5dfdf",
   "metadata": {},
   "source": [
    "## Convert to correct units\n",
    "To convert absorbance to nmol in one step (only for this particular lab) one can multiply with: 1/( 18 330 M-1cm-1 x 1 cm) x\n",
    "1050 x 10-6 x 109 = 57.3 nmol. See compendia for more details.\n",
    "\n",
    "The prepared substrate dilutions are diluted when adding the enzyme (2.4 ml + 600 µl) making the actual substrate concentrations 4/5ths of the prepared ones.\n",
    "\n",
    "Here we also convert the time from seconds to minutes"
   ]
  },
  {
   "cell_type": "code",
   "execution_count": 31,
   "id": "8c8387cb-771b-4e2b-8cc8-8e521e6ab65b",
   "metadata": {},
   "outputs": [
    {
     "data": {
      "text/html": [
       "<div>\n",
       "<style scoped>\n",
       "    .dataframe tbody tr th:only-of-type {\n",
       "        vertical-align: middle;\n",
       "    }\n",
       "\n",
       "    .dataframe tbody tr th {\n",
       "        vertical-align: top;\n",
       "    }\n",
       "\n",
       "    .dataframe thead th {\n",
       "        text-align: right;\n",
       "    }\n",
       "</style>\n",
       "<table border=\"1\" class=\"dataframe\">\n",
       "  <thead>\n",
       "    <tr style=\"text-align: right;\">\n",
       "      <th></th>\n",
       "      <th>Neg. control</th>\n",
       "      <th>0.04</th>\n",
       "      <th>0.4</th>\n",
       "      <th>0.8</th>\n",
       "      <th>1.6</th>\n",
       "      <th>4</th>\n",
       "    </tr>\n",
       "    <tr>\n",
       "      <th>time (min)</th>\n",
       "      <th></th>\n",
       "      <th></th>\n",
       "      <th></th>\n",
       "      <th></th>\n",
       "      <th></th>\n",
       "      <th></th>\n",
       "    </tr>\n",
       "  </thead>\n",
       "  <tbody>\n",
       "    <tr>\n",
       "      <th>0.5</th>\n",
       "      <td>0.0000</td>\n",
       "      <td>2.4066</td>\n",
       "      <td>4.7559</td>\n",
       "      <td>5.6154</td>\n",
       "      <td>6.2457</td>\n",
       "      <td>10.7724</td>\n",
       "    </tr>\n",
       "    <tr>\n",
       "      <th>1.0</th>\n",
       "      <td>-0.2292</td>\n",
       "      <td>3.7245</td>\n",
       "      <td>6.9906</td>\n",
       "      <td>9.0534</td>\n",
       "      <td>9.9702</td>\n",
       "      <td>13.0644</td>\n",
       "    </tr>\n",
       "    <tr>\n",
       "      <th>2.0</th>\n",
       "      <td>0.0573</td>\n",
       "      <td>5.5008</td>\n",
       "      <td>12.9498</td>\n",
       "      <td>16.4451</td>\n",
       "      <td>17.9349</td>\n",
       "      <td>21.4875</td>\n",
       "    </tr>\n",
       "    <tr>\n",
       "      <th>3.0</th>\n",
       "      <td>-0.0573</td>\n",
       "      <td>8.5377</td>\n",
       "      <td>19.0809</td>\n",
       "      <td>23.6649</td>\n",
       "      <td>25.1547</td>\n",
       "      <td>29.7960</td>\n",
       "    </tr>\n",
       "    <tr>\n",
       "      <th>4.0</th>\n",
       "      <td>-0.1719</td>\n",
       "      <td>10.3713</td>\n",
       "      <td>25.0974</td>\n",
       "      <td>30.3117</td>\n",
       "      <td>32.2599</td>\n",
       "      <td>38.3910</td>\n",
       "    </tr>\n",
       "  </tbody>\n",
       "</table>\n",
       "</div>"
      ],
      "text/plain": [
       "            Neg. control     0.04      0.4      0.8      1.6        4\n",
       "time (min)                                                           \n",
       "0.5               0.0000   2.4066   4.7559   5.6154   6.2457  10.7724\n",
       "1.0              -0.2292   3.7245   6.9906   9.0534   9.9702  13.0644\n",
       "2.0               0.0573   5.5008  12.9498  16.4451  17.9349  21.4875\n",
       "3.0              -0.0573   8.5377  19.0809  23.6649  25.1547  29.7960\n",
       "4.0              -0.1719  10.3713  25.0974  30.3117  32.2599  38.3910"
      ]
     },
     "execution_count": 31,
     "metadata": {},
     "output_type": "execute_result"
    }
   ],
   "source": [
    "data_mol = data_abs*57.3\n",
    "data_mol.columns=['Neg. control', '0.04','0.4','0.8','1.6','4']\n",
    "data_mol.index = data_mol.index/60 \n",
    "data_mol.index.name='time (min)'\n",
    "data_mol"
   ]
  },
  {
   "cell_type": "markdown",
   "id": "bf45a708-a4d4-4abb-b1f2-b93ea7144d32",
   "metadata": {},
   "source": [
    "Plot the data to see if it's reasonable"
   ]
  },
  {
   "cell_type": "code",
   "execution_count": 32,
   "id": "eb655718-be59-466b-9117-0ff73185dec6",
   "metadata": {},
   "outputs": [
    {
     "data": {
      "text/plain": [
       "<AxesSubplot:xlabel='time / min', ylabel='Product formed / nmol'>"
      ]
     },
     "execution_count": 32,
     "metadata": {},
     "output_type": "execute_result"
    },
    {
     "data": {
      "image/png": "[encoded data removed]",
      "text/plain": [
       "<Figure size 432x288 with 1 Axes>"
      ]
     },
     "metadata": {
      "needs_background": "light"
     },
     "output_type": "display_data"
    }
   ],
   "source": [
    "data_mol.plot(ylabel='Product formed / nmol', xlabel='time / min', style='o')"
   ]
  },
  {
   "cell_type": "markdown",
   "id": "8f54d5f5-16a1-4975-9bdf-5257fb83d4d3",
   "metadata": {},
   "source": [
    "Here we plot it more proper and do linear regression to each substrate concentration, as well as extracting the initial velocities."
   ]
  },
  {
   "cell_type": "code",
   "execution_count": 33,
   "id": "4eae50a0-1504-4aa9-9b2c-c9da929ad54f",
   "metadata": {
    "tags": []
   },
   "outputs": [
    {
     "name": "stdout",
     "output_type": "stream",
     "text": [
      "The function: y =  2.32 * x + 1.32  Was fitted with a R^2 of:  0.9894  to  0.04\n",
      "The function: y =  5.9 * x + 1.46  Was fitted with a R^2 of:  0.9989  to  0.4\n",
      "The function: y =  7.13 * x + 2.13  Was fitted with a R^2 of:  0.9998  to  0.8\n",
      "The function: y =  7.48 * x + 2.69  Was fitted with a R^2 of:  0.9997  to  1.6\n",
      "The function: y =  8.07 * x + 5.85  Was fitted with a R^2 of:  0.9968  to  4\n"
     ]
    },
    {
     "data": {
      "image/png": "[encoded data removed]",
      "text/plain": [
       "<Figure size 432x288 with 1 Axes>"
      ]
     },
     "metadata": {
      "needs_background": "light"
     },
     "output_type": "display_data"
    }
   ],
   "source": [
    "title='Formed product vs Time'\n",
    "X = data_mol.index\n",
    "Ys = []\n",
    "for column in data_mol.columns[1:]:\n",
    "    Ys.append(np.array(data_mol[column]-data_mol['Neg. control']).reshape((-1,1)))\n",
    "\n",
    "X=np.array(X).reshape((-1,1))\n",
    "\n",
    "models = []\n",
    "for y in Ys:\n",
    "    model = LinearRegression().fit(X,y)\n",
    "    models.append(model)\n",
    "predictions = []\n",
    "i=0\n",
    "for y in Ys:\n",
    "    y_pred = models[i].predict(X)\n",
    "    i+=1\n",
    "    predictions.append(y_pred)\n",
    "\n",
    "fig, ax = plt.subplots()\n",
    "i=1\n",
    "for y in Ys:\n",
    "    plt.plot(X,y,label=data_mol.columns[i],marker='o',linestyle='')\n",
    "    i+=1\n",
    "for y_pred in predictions:\n",
    "    plt.plot(X,y_pred,color='grey')\n",
    "\n",
    "plt.title(title)\n",
    "\n",
    "plt.legend()\n",
    "plt.xlabel('Time / min')\n",
    "plt.ylabel('Product formed / nmol')\n",
    "plt.savefig(title+'.svg')\n",
    "V_0s=[]\n",
    "i=0\n",
    "for model in models:\n",
    "    print('The function: y = ',round(float(model.coef_),2),'* x +',round(float(model.intercept_),2),' Was fitted with a R^2 of: ',round(model.score(X,Ys[i]),4),' to ',data_mol.columns[i+1])\n",
    "    V_0s.append(float(model.coef_))\n",
    "    i+=1"
   ]
  },
  {
   "cell_type": "markdown",
   "id": "96a41d27-8669-4acc-9b33-23d62415e5b4",
   "metadata": {},
   "source": [
    "For this example data, the velocity is constant during the entirety of the experiment and we can use the full fits. If the velocity decreases after a while one needs to limit the fit to then linear region. "
   ]
  },
  {
   "cell_type": "code",
   "execution_count": 48,
   "id": "69bdf6de-7c87-4bdc-9f5b-8a0ac19833d1",
   "metadata": {
    "tags": []
   },
   "outputs": [
    {
     "name": "stdout",
     "output_type": "stream",
     "text": [
      "The function: y =  1.95 * x + 1.66  Was fitted with a R^2 of:  0.9601  to  0.04\n",
      "The function: y =  5.46 * x + 1.92  Was fitted with a R^2 of:  0.9989  to  0.4\n",
      "The function: y =  7.17 * x + 2.06  Was fitted with a R^2 of:  0.9999  to  0.8\n",
      "The function: y =  7.74 * x + 2.41  Was fitted with a R^2 of:  0.9999  to  1.6\n",
      "The function: y =  7.25 * x + 6.7  Was fitted with a R^2 of:  0.989  to  4\n"
     ]
    },
    {
     "data": {
      "image/png": "[encoded data removed]",
      "text/plain": [
       "<Figure size 432x288 with 1 Axes>"
      ]
     },
     "metadata": {
      "needs_background": "light"
     },
     "output_type": "display_data"
    }
   ],
   "source": [
    "title='Formed product vs Time-Partial fits'\n",
    "X = data_mol.index[:3] #this becomes the 3 first timepoints as python starts counting at 0 and it's non-inclusive slicing (0,1,2)\n",
    "Ys = []\n",
    "for column in data_mol.columns[1:]:\n",
    "    Ys.append(np.array(data_mol[column][:2]-data_mol['Neg. control'][:2]).reshape((-1,1))) #this also becomes the 3 first points as it in this\n",
    "    # case is inclusive slicing\n",
    "\n",
    "X=np.array(X).reshape((-1,1))\n",
    "\n",
    "models = []\n",
    "for y in Ys:\n",
    "    model = LinearRegression().fit(X,y)\n",
    "    models.append(model)\n",
    "predictions = []\n",
    "i=0\n",
    "for y in Ys:\n",
    "    y_pred = models[i].predict(X)\n",
    "    i+=1\n",
    "    predictions.append(y_pred)\n",
    "\n",
    "fig, ax = plt.subplots()\n",
    "i=1\n",
    "for y in Ys:\n",
    "    plt.plot(X,y,label=data_mol.columns[i],marker='o',linestyle='')\n",
    "    i+=1\n",
    "for y_pred in predictions:\n",
    "    plt.plot(X,y_pred,color='grey')\n",
    "\n",
    "plt.title(title)\n",
    "\n",
    "plt.legend()\n",
    "plt.xlabel('Time / min')\n",
    "plt.ylabel('Product formed / nmol')\n",
    "plt.savefig(title+'.svg')\n",
    "V_0s_partial=[]\n",
    "i=0\n",
    "for model in models:\n",
    "    print('The function: y = ',round(float(model.coef_),2),'* x +',round(float(model.intercept_),2),' Was fitted with a R^2 of: ',round(model.score(X,Ys[i]),4),' to ',data_mol.columns[i+1])\n",
    "    V_0s_partial.append(float(model.coef_))\n",
    "    i+=1"
   ]
  },
  {
   "cell_type": "code",
   "execution_count": 41,
   "id": "4c1aee58-90f9-4a91-81c6-ba4787959c4c",
   "metadata": {},
   "outputs": [
    {
     "data": {
      "text/plain": [
       "[1.9482000000000008,\n",
       " 5.45987142857143,\n",
       " 7.170685714285712,\n",
       " 7.743685714285715,\n",
       " 7.252542857142856]"
      ]
     },
     "execution_count": 41,
     "metadata": {},
     "output_type": "execute_result"
    }
   ],
   "source": [
    "V_0s"
   ]
  },
  {
   "cell_type": "code",
   "execution_count": 42,
   "id": "12839de3-c04e-4a19-b660-6f6c50da704d",
   "metadata": {},
   "outputs": [],
   "source": [
    "S = pd.Series([0.04,0.4,0.8,1.6,4])"
   ]
  },
  {
   "cell_type": "markdown",
   "id": "0545d77e-8d82-489e-bbb4-4666eab09206",
   "metadata": {},
   "source": [
    "Check that initial velocities vs substrate concentrations resemble a Michaelis-Menten curve."
   ]
  },
  {
   "cell_type": "code",
   "execution_count": 43,
   "id": "82f2e3f7-67ea-4fbc-b761-4d2e0fd2eda8",
   "metadata": {},
   "outputs": [
    {
     "data": {
      "text/plain": [
       "[<matplotlib.lines.Line2D at 0x7f4b8f96b610>]"
      ]
     },
     "execution_count": 43,
     "metadata": {},
     "output_type": "execute_result"
    },
    {
     "data": {
      "image/png": "[encoded data removed]",
      "text/plain": [
       "<Figure size 432x288 with 1 Axes>"
      ]
     },
     "metadata": {
      "needs_background": "light"
     },
     "output_type": "display_data"
    }
   ],
   "source": [
    "x=S\n",
    "y=V_0s\n",
    "fig, ax = plt.subplots()\n",
    "plt.plot(x,y,'o')"
   ]
  },
  {
   "cell_type": "code",
   "execution_count": 44,
   "id": "9260f6ea-254c-4795-b7d2-fcf4d20a62da",
   "metadata": {},
   "outputs": [
    {
     "data": {
      "text/plain": [
       "0    0.727273\n",
       "1    4.000000\n",
       "2    5.333333\n",
       "3    6.400000\n",
       "4    7.272727\n",
       "dtype: float64"
      ]
     },
     "execution_count": 44,
     "metadata": {},
     "output_type": "execute_result"
    }
   ],
   "source": [
    "# Create a function for the equation you want to fit. The function should accept \n",
    "# as inputs the independent variable(s) and all the parameters to be fit.\n",
    "\n",
    "def MM(SubConc, Vmax, Km):\n",
    "    Vi = Vmax * SubConc/(Km + SubConc)\n",
    "    return Vi\n",
    "\n",
    "# Test the function to see if it produces the expected output by entering approximate values for Vmax (where the curve seem to plateau)\n",
    "# and Km (substrate concentration where initial velocity (V_0) is half of Vmax) and compare these to the actual velocities, if they are\n",
    "# roughly similar then everything works.\n",
    "\n",
    "\n",
    "MM(x, 8, 0.4)"
   ]
  },
  {
   "cell_type": "markdown",
   "id": "8b902987-7b1a-437e-bc80-c7d9b269633f",
   "metadata": {},
   "source": [
    "Do the actual fitting of the equation to the data. See https://docs.scipy.org/doc/scipy/reference/generated/scipy.optimize.curve_fit.html for more information. "
   ]
  },
  {
   "cell_type": "code",
   "execution_count": 45,
   "id": "421008e5-0164-43b2-b944-41664a5b3f5a",
   "metadata": {},
   "outputs": [
    {
     "name": "stdout",
     "output_type": "stream",
     "text": [
      "Vmax for this reaction: 7.93 +/- 0.41\n",
      "Km for this reaction: 0.13 +/- 0.04\n"
     ]
    }
   ],
   "source": [
    "popt, pcov = curve_fit(MM, x, y,bounds=(0,20)) # we can't get negative parameters (Km, Vmax) so therefore we add the bounds.\n",
    "# Extract the fit parameters from the output of curve_fit.\n",
    "Vmax = popt[0]\n",
    "Km = popt[1]\n",
    "\n",
    "# Extract one standard deviation for each parameter\n",
    "stdev = np.sqrt(np.diag(pcov)) # returns one standard deviation for each parameter\n",
    "print(f'Vmax for this reaction: {Vmax:.2f} +/- {stdev[0]:.2f}')\n",
    "print(f'Km for this reaction: {Km:.2f} +/- {stdev[1]:.2f}')\n"
   ]
  },
  {
   "cell_type": "markdown",
   "id": "6cd6ae7f-4452-4c07-9026-cda71de77ee7",
   "metadata": {},
   "source": [
    "Plot the fit to inspect if it's reasonable."
   ]
  },
  {
   "cell_type": "code",
   "execution_count": 46,
   "id": "21ebacc4-28d5-4638-b7ce-b310dd66d803",
   "metadata": {},
   "outputs": [
    {
     "data": {
      "text/plain": [
       "[<matplotlib.lines.Line2D at 0x7f4b8f8dd760>]"
      ]
     },
     "execution_count": 46,
     "metadata": {},
     "output_type": "execute_result"
    },
    {
     "data": {
      "image/png": "[encoded data removed]",
      "text/plain": [
       "<Figure size 432x288 with 1 Axes>"
      ]
     },
     "metadata": {
      "needs_background": "light"
     },
     "output_type": "display_data"
    }
   ],
   "source": [
    "\n",
    "\n",
    "fit_y = MM(x, Vmax, Km) # calculates y values based on the curve_fit parameters\n",
    "# using your fit model to see how well your model fits the data.\n",
    "\n",
    "# Graph your original data and the fit equation\n",
    "plt.plot(x, y, 'o', label='data') # the experimental data\n",
    "plt.plot(x, fit_y, '-', label='fit') # the fit equation"
   ]
  },
  {
   "cell_type": "code",
   "execution_count": 47,
   "id": "24e02700-ed33-48d4-816e-d2b1e3ce6ed5",
   "metadata": {},
   "outputs": [
    {
     "data": {
      "image/png": "[encoded data removed]",
      "text/plain": [
       "<Figure size 432x288 with 1 Axes>"
      ]
     },
     "metadata": {
      "needs_background": "light"
     },
     "output_type": "display_data"
    }
   ],
   "source": [
    "# To generate a smoother fitted curve\n",
    "smooth_x = np.linspace(np.min(x), np.max(x), 1000) # x value range with 1000 points\n",
    "smooth_y = MM(smooth_x, Vmax, Km) # y values for the 1000 points in smooth_x\n",
    "\n",
    "plt.plot(x, y, 'o', label='Data', color='black') # plot of the experimental data\n",
    "plt.plot(smooth_x, smooth_y, 'black', label = 'Fit', linestyle='--') # plot of the fit data\n",
    "plt.xlabel('Substrate concentration / mM')\n",
    "plt.ylabel(r'Initial velocity / nmol*min$^{-1}$')\n",
    "plt.legend() # legend added\n",
    "plt.savefig('MM-plot.svg') # by changing to .png, .pdf etc. you can change the export format to whatever suits you."
   ]
  },
  {
   "cell_type": "code",
   "execution_count": null,
   "id": "314710a1-33c3-41f8-a75c-cc65e19b9e99",
   "metadata": {},
   "outputs": [],
   "source": []
  }
 ],
 "metadata": {
  "kernelspec": {
   "display_name": "Python 3",
   "language": "python",
   "name": "python3"
  },
  "language_info": {
   "codemirror_mode": {
    "name": "ipython",
    "version": 3
   },
   "file_extension": ".py",
   "mimetype": "text/x-python",
   "name": "python",
   "nbconvert_exporter": "python",
   "pygments_lexer": "ipython3",
   "version": "3.9.2"
  }
 },
 "nbformat": 4,
 "nbformat_minor": 5
}
